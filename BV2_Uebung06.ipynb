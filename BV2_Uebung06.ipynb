{
  "nbformat": 4,
  "nbformat_minor": 0,
  "metadata": {
    "colab": {
      "provenance": [],
      "authorship_tag": "ABX9TyMhHH0lOL+V/+RER6U1XmWp"
    },
    "kernelspec": {
      "name": "python3",
      "display_name": "Python 3"
    },
    "language_info": {
      "name": "python"
    }
  },
  "cells": [
    {
      "cell_type": "code",
      "execution_count": null,
      "metadata": {
        "id": "8oLNJc8sAnEQ"
      },
      "outputs": [],
      "source": [
        "import numpy as np\n",
        "import cv2\n",
        "import math\n",
        "import os\n",
        "\n",
        "import random\n",
        "\n",
        "from matplotlib import pyplot as plt\n",
        "from collections import deque\n",
        "from google.colab import drive\n",
        "from google.colab.patches import cv2_imshow\n",
        "\n",
        "from skimage import data, img_as_float\n",
        "from skimage.metrics import structural_similarity as ssim\n",
        "import matplotlib.pyplot as plt\n",
        "import pandas as pd\n",
        "import sklearn as sk\n",
        "from sklearn.model_selection import train_test_split\n",
        "from datetime import datetime"
      ]
    },
    {
      "cell_type": "code",
      "source": [
        "drive.mount('/content/drive')"
      ],
      "metadata": {
        "colab": {
          "base_uri": "https://localhost:8080/"
        },
        "id": "XQ0W4T4kBS1Z",
        "outputId": "8ff1bbb7-8c2b-4070-ee57-d3a591693494"
      },
      "execution_count": null,
      "outputs": [
        {
          "output_type": "stream",
          "name": "stdout",
          "text": [
            "Mounted at /content/drive\n"
          ]
        }
      ]
    },
    {
      "cell_type": "code",
      "source": [
        "# Pfad zur CSV-Datei\n",
        "a_file_path = '/content/drive/My Drive/Colab Notebooks/BV2/Testbilder/A_vs_B/A.csv'\n",
        "b_file_path = '/content/drive/My Drive/Colab Notebooks/BV2/Testbilder/A_vs_B/B.csv'\n",
        "\n",
        "# Laden der CSV-Dateien als Pandas DataFrame\n",
        "a_raw_data = pd.read_csv(a_file_path, delimiter=';')# '; '\n",
        "a_raw_data['target'] = 1\n",
        "\n",
        "b_raw_data = pd.read_csv(b_file_path, delimiter=';')\n",
        "b_raw_data['target'] = -1\n",
        "\n",
        "ab_raw_data = pd.concat([a_raw_data, b_raw_data], ignore_index=True)"
      ],
      "metadata": {
        "id": "lxkBAqlrGnNv"
      },
      "execution_count": null,
      "outputs": []
    },
    {
      "cell_type": "code",
      "source": [
        "# Aufteilung in Features und Zielvariable\n",
        "x = ab_raw_data.drop('target', axis=1)\n",
        "y = ab_raw_data['target']\n",
        "\n",
        "# Aufteilung in Trainings- und Testdatensätze\n",
        "x_train, x_test, y_train, y_test = train_test_split(x, y, test_size=0.2, random_state=42)"
      ],
      "metadata": {
        "id": "vtyT78aBGdWN"
      },
      "execution_count": null,
      "outputs": []
    },
    {
      "cell_type": "code",
      "source": [
        "#print(y_train.iloc[1])\n",
        "#print(x_train.iloc[1])\n",
        "test = y_train.iloc[0]\n",
        "print(x_train.iloc[1].iloc[3])\n",
        "x_data_row = x_train.iloc[1]\n",
        "x1 = x_data_row.iloc[3]"
      ],
      "metadata": {
        "colab": {
          "base_uri": "https://localhost:8080/"
        },
        "id": "wTdt4M1jV5fJ",
        "outputId": "7dd1e799-342f-487a-a948-2c3db57f1abc"
      },
      "execution_count": null,
      "outputs": [
        {
          "output_type": "stream",
          "name": "stdout",
          "text": [
            "0.7403419097487368\n"
          ]
        }
      ]
    },
    {
      "cell_type": "code",
      "source": [
        "#Perzeptron\n",
        "w = np.zeros(2) #Gewichte\n",
        "n = 0.5 #Lernrate?\n",
        "# x Eingabewert y geünschtes Ergbenis\n",
        "\n",
        "def train_perzeptron_old(x_data, y_data, w, threshold):\n",
        "\n",
        "  for i in range(y_data.shape[0]):\n",
        "    #x_data_row = x_data.iloc[i]\n",
        "    y_data_row = y_data.iloc[i]\n",
        "\n",
        "    y = y_data_row.iloc[1]\n",
        "    #Wähle Traingsdaten\n",
        "    x1 = x_data.iloc[i].iloc[3]# Hue 1\n",
        "    x2 = x_data.iloc[i].iloc[4]# Hue 2\n",
        "    #Berechne y^\n",
        "    u = x1 * w[0] + x2 * w[1]\n",
        "    y_d = 1 if u > threshold else -1\n",
        "    #Bestimme den Fehler\n",
        "    d = y - y_d\n",
        "    #Aktualisiere Gewichte\n",
        "    w[0] = w[0] + n * d * x1\n",
        "    w[1] = w[1] + n * d * x2\n",
        "\n",
        "def train_perzeptron(x_data, y_data, w, threshold):\n",
        "    for i in range(y_data.shape[0]):\n",
        "        y = y_data.iloc[i]\n",
        "\n",
        "        # Wählen Sie Trainingsdaten aus x_data\n",
        "        x1 = x_data.iloc[i].iloc[3]  # Hue 1\n",
        "        x2 = x_data.iloc[i].iloc[4]  # Hue 2\n",
        "\n",
        "        # Berechne vorhergesagter Wert\n",
        "        u = x1 * w[0] + x2 * w[1]\n",
        "        y_d = 1 if u > threshold else -1\n",
        "\n",
        "        # Fehlerbestimmung\n",
        "        d = y - y_d\n",
        "\n",
        "        # Aktualisieren der Gewichte\n",
        "        w[0] = w[0] + n * d * x1\n",
        "        w[1] = w[1] + n * d * x2\n"
      ],
      "metadata": {
        "id": "ySGlVXt8QlRl"
      },
      "execution_count": null,
      "outputs": []
    },
    {
      "cell_type": "code",
      "source": [
        "def test_perzeptron(x_data, y_data, w, threshold):\n",
        "  for i in range(y_data.shape[0]):\n",
        "    # Da y_data eine Serie ist, erhalten Sie mit iloc[i] einen Skalarwert\n",
        "    y = y_data.iloc[i]\n",
        "\n",
        "    # Wählen Sie Trainingsdaten aus x_data\n",
        "    x1 = x_data.iloc[i].iloc[3]  # Hue 1\n",
        "    x2 = x_data.iloc[i].iloc[4]  # Hue 2\n",
        "\n",
        "    # Berechnen Sie y^ (vorhergesagter Wert)\n",
        "    u = x1 * w[0] + x2 * w[1]\n",
        "    y_d = 1 if u > threshold else -1\n",
        "\n",
        "    #print(f\"{x_data.iloc[i].iloc[0]}: {y_d}=={y}, {'Wahr' if y_d == y else 'Falsch'}\")\n"
      ],
      "metadata": {
        "id": "eb6oKn84h2lv"
      },
      "execution_count": null,
      "outputs": []
    },
    {
      "cell_type": "code",
      "source": [
        "for i in range(1000):\n",
        "  #print(w)\n",
        "  train_perzeptron(x_train, y_train, w, 0)\n",
        "\n",
        "print(w)"
      ],
      "metadata": {
        "colab": {
          "base_uri": "https://localhost:8080/"
        },
        "id": "4p2gGSL5ey-L",
        "outputId": "8a7e8ceb-8ff6-4adc-f57b-f2d78a18631e"
      },
      "execution_count": null,
      "outputs": [
        {
          "output_type": "stream",
          "name": "stdout",
          "text": [
            "[-51.89291603  13.92560914]\n"
          ]
        }
      ]
    },
    {
      "cell_type": "code",
      "source": [
        "test_perzeptron(x_test, y_test, w, 0)"
      ],
      "metadata": {
        "id": "Mt5VkoRSi5aT"
      },
      "execution_count": null,
      "outputs": []
    },
    {
      "cell_type": "code",
      "source": [
        "ax = a_raw_data.iloc[:, 3]  # Hue 1\n",
        "ay = a_raw_data.iloc[:, 4]\n",
        "bx = b_raw_data.iloc[:, 3]\n",
        "by = b_raw_data.iloc[:, 4]"
      ],
      "metadata": {
        "id": "1fVuyy0D-Pha"
      },
      "execution_count": null,
      "outputs": []
    },
    {
      "cell_type": "code",
      "source": [
        "import matplotlib.pyplot as plt\n",
        "\n",
        "# Gewichte und Bias\n",
        "w1 = w[0]  # Ersetzen Sie dies mit Ihrem Wert für w1\n",
        "w2 = w[1] # Ersetzen Sie dies mit Ihrem Wert für w2\n",
        "b = 0.5   # Ersetzen Sie dies mit Ihrem Wert für b\n",
        "\n",
        "# X-Werte definieren (z.B. von -10 bis 10)\n",
        "x_values = [0.5, 1]\n",
        "\n",
        "# Y-Werte basierend auf der Geradengleichung berechnen\n",
        "y_values = [(-w1/w2) * x - b/w2 for x in x_values]\n",
        "\n",
        "# Plotten\n",
        "plt.scatter(ax, ay, marker='x', label='Äpfel')\n",
        "plt.scatter(bx, by, marker='x', label='Birnen')\n",
        "#plt.quiver(0,0, w2, -w1)\n",
        "\n",
        "plt.plot(x_values, y_values, label='Trenngerade')\n",
        "plt.xlabel('Hue 1')\n",
        "plt.ylabel('Hue 2')\n",
        "plt.title('Trenngerade zwischen Äpfeln und Birnen')\n",
        "plt.legend()\n",
        "plt.grid(True)\n",
        "plt.savefig(f'/content/drive/My Drive/Colab Notebooks/BV2/apfel_birne_gerade_{datetime.now()}.png', dpi=300)\n",
        "\n",
        "\n",
        "plt.show()\n"
      ],
      "metadata": {
        "colab": {
          "base_uri": "https://localhost:8080/",
          "height": 474
        },
        "id": "zKitOoaa7fI7",
        "outputId": "8a5ccd8e-55b7-43c9-8e3b-7b19abceb611"
      },
      "execution_count": null,
      "outputs": [
        {
          "output_type": "display_data",
          "data": {
            "text/plain": [
              "<Figure size 640x480 with 1 Axes>"
            ],
            "image/png": "[encoded data removed]"
          },
          "metadata": {}
        }
      ]
    }
  ]
}