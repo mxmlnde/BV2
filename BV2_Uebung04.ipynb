{
  "cells": [
    {
      "cell_type": "code",
      "execution_count": null,
      "metadata": {
        "id": "6t6TVfSPL2yu"
      },
      "outputs": [],
      "source": [
        "import numpy as np\n",
        "import cv2\n",
        "import math\n",
        "import os\n",
        "\n",
        "import random\n",
        "\n",
        "from matplotlib import pyplot as plt\n",
        "from collections import deque\n",
        "from google.colab import drive\n",
        "from google.colab.patches import cv2_imshow\n",
        "\n",
        "from skimage import data, img_as_float\n",
        "from skimage.metrics import structural_similarity as ssim"
      ]
    },
    {
      "cell_type": "code",
      "execution_count": null,
      "metadata": {
        "colab": {
          "base_uri": "https://localhost:8080/"
        },
        "id": "gtcWC9xCMXJ5",
        "outputId": "880e3b02-14a5-4ce5-dde9-e3b342a0bf13"
      },
      "outputs": [
        {
          "output_type": "stream",
          "name": "stdout",
          "text": [
            "Mounted at /content/drive\n"
          ]
        }
      ],
      "source": [
        "drive.mount('/content/drive')"
      ]
    },
    {
      "cell_type": "code",
      "execution_count": null,
      "metadata": {
        "id": "wllFmoA7NLll"
      },
      "outputs": [],
      "source": [
        "# Bilder mit unterschiedlicher Belichtung einlesen\n",
        "folder_path = '/content/drive/My Drive/Colab Notebooks/BV2/Testbilder/hof/'\n",
        "\n",
        "tower_list = []\n",
        "\n",
        "for filename in os.listdir(folder_path):\n",
        "    if filename.endswith('.jpg') or filename.endswith('.png'):\n",
        "        img_path = os.path.join(folder_path, filename)\n",
        "        img = cv2.imread(img_path, cv2.IMREAD_COLOR)\n",
        "        tower_list.append(img)\n",
        "\n",
        "# Konvertiere die Liste in ein NumPy-Array\n",
        "tower_list_array = np.array(tower_list)\n",
        "test_image = tower_list[0]"
      ]
    },
    {
      "cell_type": "code",
      "source": [
        "import os\n",
        "import cv2 as cv2\n",
        "import math\n",
        "import numpy as np\n",
        "import matplotlib.pyplot as plt"
      ],
      "metadata": {
        "id": "XABQCEmw5fcq"
      },
      "execution_count": null,
      "outputs": []
    },
    {
      "cell_type": "code",
      "source": [
        "directory = '/content/drive/My Drive/Colab Notebooks/BV2/Testbilder/Birne'\n",
        "\n",
        "included_extensions = ['jpg','jpeg','JPG']\n",
        "fileNames = [fn for fn in os.listdir(directory)\n",
        "              if any(fn.endswith(ext) for ext in included_extensions)]\n",
        "\n",
        "for imgFile in fileNames:\n",
        "    filePath = os.path.join(directory, imgFile)\n",
        "    print(f\"processing {imgFile} ...\")\n",
        "    imgCol = cv2.cvtColor(cv2.imread(filePath), cv2.COLOR_BGR2RGB)\n",
        "\n",
        "    # Bild verkleinern\n",
        "    sy, sx = imgCol.shape[:2]\n",
        "    scaling_factor = 0.25\n",
        "    syNew = int(sy * scaling_factor)\n",
        "    sxNew = int(sx * scaling_factor)\n",
        "    imgCol = cv2.resize(imgCol, (sxNew, syNew))\n",
        "\n",
        "    # in HSV umwandeln und auf Basis des Sättigung schwellwerten\n",
        "    imgHsv = cv2.cvtColor(imgCol, cv2.COLOR_RGB2HSV)\n",
        "    h, s, v = cv2.split(imgHsv)\n",
        "    _, imgBin = cv2.threshold(s, 80, 255, cv2.THRESH_BINARY)\n",
        "\n",
        "    # Rauschen durch morphologische Operatoren reduzieren\n",
        "    kernel = np.ones((3, 3), np.uint8)\n",
        "    imgBin = cv2.erode(imgBin, kernel, iterations=1)\n",
        "    imgBin = cv2.erode(imgBin, kernel, iterations=1)\n",
        "    imgBin = cv2.dilate(imgBin, kernel, iterations=1)\n",
        "    imgBin = cv2.erode(imgBin, kernel, iterations=1)\n",
        "    imgBin = cv2.erode(imgBin, kernel, iterations=1)\n",
        "    imgBin = cv2.dilate(imgBin, kernel, iterations=1)\n",
        "\n",
        "    #plt.imshow(imgBin, cmap=\"gray\")\n",
        "    #plt.show()\n",
        "\n",
        "    # Hier stellen wir sicher, dass es weniger Vordergrund- (weiße) als Hintergrund-Pixel (schwarze) gibt\n",
        "    cntForegroundPixel = cv2.countNonZero(imgBin)\n",
        "    cntBackgroundPixel = imgBin.size - cntForegroundPixel\n",
        "    if cntBackgroundPixel < cntForegroundPixel:\n",
        "        imgBin = cv2.bitwise_not(imgBin)\n",
        "\n",
        "    # Konturen berechnen...\n",
        "    contours, _ = cv2.findContours(imgBin, cv2.RETR_EXTERNAL, cv2.CHAIN_APPROX_SIMPLE)\n",
        "\n",
        "    # ... und längste davon bestimmen\n",
        "    longestContour = None\n",
        "    longestContourPerimeter = -1\n",
        "    longestContourArea = -1\n",
        "\n",
        "    for contour in contours:\n",
        "        perimeter = cv2.arcLength(contour, closed=True)\n",
        "\n",
        "        if perimeter > longestContourPerimeter:\n",
        "            longestContour = contour\n",
        "            longestContourPerimeter = perimeter\n",
        "            longestContourArea = cv2.contourArea(contour)\n",
        "\n",
        "    cv2.drawContours(imgCol, [longestContour], -1, (0,255,255), 4)\n",
        "\n",
        "    #approxContour = cv2.approxPolyDP(longestContour, 0.005 * longestContourPerimeter, True)\n",
        "    #cv2.drawContours(imgCol, [approxContour], -1, (255,0,255), 4)\n",
        "\n",
        "    plt.imshow(imgCol, cmap=\"gray\")\n",
        "    plt.show()\n",
        "\n",
        "    # Merkmal berechnen: Rundheit\n",
        "    pCorr = 0.95 * longestContourPerimeter\n",
        "    circularity = 4 * math.pi * longestContourArea / pCorr**2\n",
        "\n",
        "    # Merkmal berechnen: Durchschnittlicher H-Wert\n",
        "    mask = np.zeros_like(h)\n",
        "    cv2.drawContours(mask, [longestContour], -1, 255, thickness=cv2.FILLED)\n",
        "    pixelsInside_h = h[mask == 255]\n",
        "    meanH = np.mean(pixelsInside_h)\n",
        "\n",
        "    # Merkmal berechnen: Hu-Momente\n",
        "    huMoments = cv2.HuMoments(cv2.moments(longestContour))\n",
        "    for i in range(0,7):\n",
        "        huMoments[i] = -1* math.copysign(1.0, huMoments[i]) * math.log10(abs(huMoments[i]))\n",
        "\n",
        "    print(f\"{circularity}; {meanH}; {huMoments[0][0]}; {huMoments[1][0]}; {huMoments[2][0]}; {huMoments[3][0]}; {huMoments[4][0]}; {huMoments[5][0]}; {huMoments[6][0]}\")"
      ],
      "metadata": {
        "colab": {
          "base_uri": "https://localhost:8080/",
          "height": 246
        },
        "id": "4F0v5m1r5OaC",
        "outputId": "c190df18-e2b0-4a86-a534-237799834701"
      },
      "execution_count": null,
      "outputs": [
        {
          "output_type": "error",
          "ename": "FileNotFoundError",
          "evalue": "ignored",
          "traceback": [
            "\u001b[0;31m---------------------------------------------------------------------------\u001b[0m",
            "\u001b[0;31mFileNotFoundError\u001b[0m                         Traceback (most recent call last)",
            "\u001b[0;32m<ipython-input-6-1f8aa2a159ed>\u001b[0m in \u001b[0;36m<cell line: 4>\u001b[0;34m()\u001b[0m\n\u001b[1;32m      2\u001b[0m \u001b[0;34m\u001b[0m\u001b[0m\n\u001b[1;32m      3\u001b[0m \u001b[0mincluded_extensions\u001b[0m \u001b[0;34m=\u001b[0m \u001b[0;34m[\u001b[0m\u001b[0;34m'jpg'\u001b[0m\u001b[0;34m,\u001b[0m\u001b[0;34m'jpeg'\u001b[0m\u001b[0;34m,\u001b[0m\u001b[0;34m'JPG'\u001b[0m\u001b[0;34m]\u001b[0m\u001b[0;34m\u001b[0m\u001b[0;34m\u001b[0m\u001b[0m\n\u001b[0;32m----> 4\u001b[0;31m fileNames = [fn for fn in os.listdir(directory)\n\u001b[0m\u001b[1;32m      5\u001b[0m               if any(fn.endswith(ext) for ext in included_extensions)]\n\u001b[1;32m      6\u001b[0m \u001b[0;34m\u001b[0m\u001b[0m\n",
            "\u001b[0;31mFileNotFoundError\u001b[0m: [Errno 2] No such file or directory: '/content/drive/My Drive/Colab Notebooks/BV2/Testbilder/Birne'"
          ]
        }
      ]
    },
    {
      "cell_type": "code",
      "execution_count": null,
      "metadata": {
        "id": "rnRUuQYaOPTb"
      },
      "outputs": [],
      "source": [
        "aligned_images = np.zeros_like(tower_list)\n",
        "alignMTB = cv2.createAlignMTB()\n",
        "alignMTB.process(tower_list, aligned_images)\n",
        "\n",
        "result_image = np.zeros_like(test_image)\n",
        "mergeMertens = cv2.createMergeMertens()\n",
        "exposureFusion = mergeMertens.process(aligned_images)"
      ]
    },
    {
      "cell_type": "code",
      "execution_count": null,
      "metadata": {
        "colab": {
          "base_uri": "https://localhost:8080/",
          "height": 1000
        },
        "id": "QLXLZsPMPU65",
        "outputId": "fde81489-2a4a-4e85-854c-a20f599eef2d"
      },
      "outputs": [],
      "source": [
        "result_image = cv2.convertScaleAbs(exposureFusion * 255)\n",
        "cv2_imshow(result_image)\n",
        "cv2.imwrite(f'/content/drive/My Drive/Colab Notebooks/BV2/ExposureFusion_hof.png', result_image)"
      ]
    }
  ],
  "metadata": {
    "colab": {
      "provenance": [],
      "authorship_tag": "ABX9TyP8+oPDppBoQdCT2raLAMTK"
    },
    "kernelspec": {
      "display_name": "Python 3",
      "name": "python3"
    },
    "language_info": {
      "name": "python"
    }
  },
  "nbformat": 4,
  "nbformat_minor": 0
}