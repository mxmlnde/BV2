{
  "nbformat": 4,
  "nbformat_minor": 0,
  "metadata": {
    "colab": {
      "provenance": [],
      "authorship_tag": "ABX9TyPp76B/SlzMaolEB/X2V9uR"
    },
    "kernelspec": {
      "name": "python3",
      "display_name": "Python 3"
    },
    "language_info": {
      "name": "python"
    }
  },
  "cells": [
    {
      "cell_type": "code",
      "execution_count": null,
      "metadata": {
        "id": "rq96rtmKKlIt"
      },
      "outputs": [],
      "source": [
        "import numpy as np\n",
        "import cv2\n",
        "import math\n",
        "import os\n",
        "\n",
        "import random\n",
        "\n",
        "from matplotlib import pyplot as plt\n",
        "from collections import deque\n",
        "from google.colab import drive\n",
        "from google.colab.patches import cv2_imshow\n",
        "\n",
        "from skimage import data, img_as_float\n",
        "from skimage.metrics import structural_similarity as ssim"
      ]
    },
    {
      "cell_type": "code",
      "source": [
        "drive.mount('/content/drive')"
      ],
      "metadata": {
        "colab": {
          "base_uri": "https://localhost:8080/"
        },
        "id": "oapWqoMckFE4",
        "outputId": "3f1978d6-9ae7-4d67-c274-ec7fc9921765"
      },
      "execution_count": null,
      "outputs": [
        {
          "output_type": "stream",
          "name": "stdout",
          "text": [
            "Drive already mounted at /content/drive; to attempt to forcibly remount, call drive.mount(\"/content/drive\", force_remount=True).\n"
          ]
        }
      ]
    },
    {
      "cell_type": "code",
      "source": [
        "# Testbilder\n",
        "house = cv2.imread('/content/drive/My Drive/Colab Notebooks/BV2/Testbilder/Haus.JPEG', cv2.IMREAD_GRAYSCALE)\n",
        "house_rgb = cv2.imread('/content/drive/My Drive/Colab Notebooks/BV2/Testbilder/Haus.JPEG', cv2.IMREAD_COLOR)\n",
        "pano = cv2.imread('/content/drive/My Drive/Colab Notebooks/BV2/Testbilder/KoelnPano01.jpg', cv2.IMREAD_COLOR)\n",
        "europa = cv2.imread('/content/drive/My Drive/Colab Notebooks/BV2/Testbilder/europa.png', cv2.IMREAD_GRAYSCALE)\n",
        "geheim = cv2.imread('/content/drive/My Drive/Colab Notebooks/BV2/Testbilder/BV2_Geheim.jpg', cv2.IMREAD_GRAYSCALE)\n",
        "maus = cv2.imread('/content/drive/My Drive/Colab Notebooks/BV2/Testbilder/Maus_und_co.jpg', cv2.IMREAD_GRAYSCALE)\n",
        "# cv2_imshow(geheim)"
      ],
      "metadata": {
        "id": "32Qx6MpIkIa0"
      },
      "execution_count": null,
      "outputs": []
    },
    {
      "cell_type": "markdown",
      "source": [
        "Aufgabe 01"
      ],
      "metadata": {
        "id": "3viI15wuWyK3"
      }
    },
    {
      "cell_type": "code",
      "source": [
        "# Rauschen aus Abgabe 01\n",
        "# Verbesserte Version meines Körnungsfilters (ChatGPT)\n",
        "def grainFilter(image, grain):\n",
        "  grainImage = np.zeros_like(image, dtype=float)\n",
        "  resultImage = np.zeros_like(image, dtype=int)\n",
        "\n",
        "  for y in range(image.shape[0]):\n",
        "    for x in range(image.shape[1]):\n",
        "      ranFloat = grain + random.random() * (1 - grain)\n",
        "      grainImage[y][x] = np.array([ranFloat], dtype = float)\n",
        "      resultImage[y][x] = np.array([int(image[y][x] * grainImage[y][x])], dtype = int)\n",
        "\n",
        "  return resultImage"
      ],
      "metadata": {
        "id": "glV1mYY7WhsN"
      },
      "execution_count": null,
      "outputs": []
    },
    {
      "cell_type": "code",
      "source": [
        "def salt_and_pepper_noise(image, frequency):\n",
        "  result_image = np.zeros_like(image)\n",
        "  for y in range(image.shape[0]):\n",
        "    for x in range(image.shape[1]):\n",
        "      random_float = np.random.rand(1)\n",
        "      if random_float < frequency:\n",
        "        result_image[y][x] = 0\n",
        "      elif random_float > (1-frequency):\n",
        "        result_image[y][x] = 255\n",
        "      else:\n",
        "        result_image[y][x] = image[y][x]\n",
        "\n",
        "  return result_image"
      ],
      "metadata": {
        "id": "ei96glB9Wujp"
      },
      "execution_count": null,
      "outputs": []
    },
    {
      "cell_type": "code",
      "source": [
        "def blur_image(image, kernel):\n",
        "  kernel = kernel if kernel % 2 == 1 else (kernel - 1)\n",
        "  return cv2.GaussianBlur(image,(kernel,kernel),0)"
      ],
      "metadata": {
        "id": "BK-cQwyfg31K"
      },
      "execution_count": null,
      "outputs": []
    },
    {
      "cell_type": "code",
      "source": [
        "#BV1\n",
        "def lin_contrast_spread(image, t0:int, t1:int):\n",
        "  new_image = np.zeros_like(image)\n",
        "  new_lut = [np.zeros(256),np.zeros(256)]# 8-bit\n",
        "  k = 255\n",
        "  for i in range(0, 256):\n",
        "    if i <= t0:\n",
        "      new_lut[1][i] = 0\n",
        "    elif i > t1:\n",
        "      new_lut[1][i] = k\n",
        "    elif i > t0 and i <= t1:\n",
        "      new_lut[1][i] = k/(t1-t0) * (i-t0)\n",
        "  for y in range(0, image.shape[0]):# height\n",
        "    for x in range(0, image.shape[1]):# width\n",
        "      g_value = image[y, x]\n",
        "      new_image[y, x] = new_lut[1][g_value]\n",
        "  return new_image"
      ],
      "metadata": {
        "id": "6Ev-KxdVlDK2"
      },
      "execution_count": null,
      "outputs": []
    },
    {
      "cell_type": "code",
      "source": [
        "def reverse_gray(image):\n",
        "  result_image = np.zeros_like(image)\n",
        "\n",
        "  for y in range(image.shape[0]):\n",
        "    for x in range(image.shape[1]):\n",
        "      result_image[y][x] = 255 - image[y][x]\n",
        "\n",
        "  return result_image"
      ],
      "metadata": {
        "id": "CLw6XHddnDxx"
      },
      "execution_count": null,
      "outputs": []
    },
    {
      "cell_type": "code",
      "source": [
        "def brightnessCorr(img, value):\n",
        "  result_image = np.zeros_like(img)\n",
        "  for y in range(img.shape[0]):\n",
        "    for x in range(img.shape[1]):\n",
        "      result_image[y][x] = np.round(np.clip(img[y][x] * value, 0, 255)).astype(int)\n",
        "\n",
        "  return result_image"
      ],
      "metadata": {
        "id": "vehGNHnBPLcZ"
      },
      "execution_count": null,
      "outputs": []
    },
    {
      "cell_type": "code",
      "source": [
        "# Filter\n",
        "test_image = maus\n",
        "#cv2_imshow(test_image)\n",
        "\n",
        "# Rauschen aus Abgabe 01\n",
        "image_grain = grainFilter(test_image, 0.55)\n",
        "\n",
        "# Salt and Pepper Rauschen\n",
        "image_sp = salt_and_pepper_noise(test_image, 0.015)\n",
        "\n",
        "# Blur\n",
        "image_blur = blur_image(test_image, 15)\n",
        "\n",
        "# Kontrast\n",
        "image_contrast = lin_contrast_spread(test_image, 80, 200)\n",
        "\n",
        "# Helligkeitskorrektur\n",
        "image_bright = brightnessCorr(test_image, 0.4)"
      ],
      "metadata": {
        "id": "BxmPWckEkqDS"
      },
      "execution_count": null,
      "outputs": []
    },
    {
      "cell_type": "code",
      "source": [
        "# SSIM\n",
        "print(ssim(test_image, image_grain))\n",
        "print(ssim(test_image, image_sp))\n",
        "print(ssim(test_image, image_blur))\n",
        "print(ssim(test_image, image_contrast))\n",
        "print(ssim(test_image, image_bright))"
      ],
      "metadata": {
        "colab": {
          "base_uri": "https://localhost:8080/"
        },
        "id": "oEjzk2LQWlgj",
        "outputId": "e51434d7-6c96-4635-decd-f230f7fec5e9"
      },
      "execution_count": null,
      "outputs": [
        {
          "output_type": "stream",
          "name": "stdout",
          "text": [
            "0.5678692604484143\n",
            "0.5545423956119784\n",
            "0.5301450497596957\n",
            "0.5446510624403339\n",
            "0.5579997901778425\n"
          ]
        }
      ]
    },
    {
      "cell_type": "code",
      "source": [
        "#cv2_imshow(image_grain)\n",
        "#cv2_imshow(image_sp)\n",
        "#cv2_imshow(image_blur)\n",
        "#cv2_imshow(image_contrast)\n",
        "#cv2_imshow(image_bright)\n",
        "#cv2.imwrite(f'/content/drive/My Drive/Colab Notebooks/BV2/test_image.png', test_image)\n",
        "#cv2.imwrite(f'/content/drive/My Drive/Colab Notebooks/BV2/image_grain.png', image_grain)\n",
        "#cv2.imwrite(f'/content/drive/My Drive/Colab Notebooks/BV2/image_sp.png', image_sp)\n",
        "#cv2.imwrite(f'/content/drive/My Drive/Colab Notebooks/BV2/image_blur.png', image_blur)\n",
        "#cv2.imwrite(f'/content/drive/My Drive/Colab Notebooks/BV2/image_bright.png', image_bright)"
      ],
      "metadata": {
        "id": "acNLFT0Dmrt9"
      },
      "execution_count": null,
      "outputs": []
    },
    {
      "cell_type": "markdown",
      "source": [
        "Aufgabe 02"
      ],
      "metadata": {
        "id": "NBmwDZbFWthZ"
      }
    },
    {
      "cell_type": "code",
      "source": [
        "# Nachricht verstecken\n",
        "def hideMessage(image, message):\n",
        "  resultImage = image\n",
        "  for y in range(resultImage.shape[0]):\n",
        "    for x in range(resultImage.shape[1]):\n",
        "      if(message[y][x] > 100):#5\n",
        "        resultImage[y][x][0] |= 1\n",
        "      else:\n",
        "        resultImage[y][x][0] &= ~1\n",
        "\n",
        "  return resultImage"
      ],
      "metadata": {
        "id": "NnOoH-5SaPlu"
      },
      "execution_count": null,
      "outputs": []
    },
    {
      "cell_type": "code",
      "source": [
        "# Nachricht herausholen\n",
        "def findMessage(image):\n",
        "  bitImages = []\n",
        "  for bit in range(8):\n",
        "    bitMask = 1 << bit\n",
        "    bitPlane = cv2.bitwise_and(image[:, :, 0], bitMask)\n",
        "    bitImages.append(bitPlane)\n",
        "\n",
        "  for i, bitImage in enumerate(bitImages):\n",
        "    cv2.imwrite(f'/content/drive/My Drive/Colab Notebooks/BV2/blue_bit_{i}.png', bitImage)"
      ],
      "metadata": {
        "id": "UIGH9tq9hzd9"
      },
      "execution_count": null,
      "outputs": []
    },
    {
      "cell_type": "code",
      "source": [
        "def makeImageVisible(image):\n",
        "  resultImage = np.zeros_like(image)\n",
        "  for y in range(image.shape[0]):\n",
        "    for x in range(image.shape[1]):\n",
        "      resultImage[y][x] = 255 if (image[y][x] == 1) else 0\n",
        "  return resultImage"
      ],
      "metadata": {
        "id": "lDtndNDhsQPs"
      },
      "execution_count": null,
      "outputs": []
    },
    {
      "cell_type": "code",
      "source": [
        "#Demo\n",
        "newImage = hideMessage(house_rgb, geheim)\n",
        "#findMessage(newImage)\n",
        "#cv2_imshow(house_rgb)\n",
        "#cv2_imshow(newImage)\n",
        "#cv2.imwrite(f'/content/drive/My Drive/Colab Notebooks/BV2/house_rgb.png', house_rgb)\n",
        "cv2.imwrite('/content/drive/My Drive/Colab Notebooks/BV2/house_rgb_message.png', newImage)"
      ],
      "metadata": {
        "id": "8Gu0yJm1iBJS",
        "colab": {
          "base_uri": "https://localhost:8080/"
        },
        "outputId": "1d67f8b5-a36e-4ab1-fce1-8a91e4e0adf5"
      },
      "execution_count": null,
      "outputs": [
        {
          "output_type": "execute_result",
          "data": {
            "text/plain": [
              "True"
            ]
          },
          "metadata": {},
          "execution_count": 248
        }
      ]
    },
    {
      "cell_type": "code",
      "source": [
        "#bild0 = cv2.imread('/content/drive/My Drive/Colab Notebooks/BV2/blue_bit_0.png', cv2.IMREAD_GRAYSCALE)\n",
        "#cv2.imwrite(f'/content/drive/My Drive/Colab Notebooks/BV2/blue.png', bild0)\n",
        "#cv2_imshow(makeImageVisible(bild0))\n",
        "#cv2.imwrite(f'/content/drive/My Drive/Colab Notebooks/BV2/blue_bit0_message.png', makeImageVisible(bild0))"
      ],
      "metadata": {
        "id": "TMTsHa3PoP7f"
      },
      "execution_count": null,
      "outputs": []
    }
  ]
}