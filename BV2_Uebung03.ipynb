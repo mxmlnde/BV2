{
  "nbformat": 4,
  "nbformat_minor": 0,
  "metadata": {
    "colab": {
      "provenance": [],
      "authorship_tag": "ABX9TyOIKs13TXztJ44dNjxHZ5G0"
    },
    "kernelspec": {
      "name": "python3",
      "display_name": "Python 3"
    },
    "language_info": {
      "name": "python"
    }
  },
  "cells": [
    {
      "cell_type": "code",
      "execution_count": null,
      "metadata": {
        "id": "IEhBayy6bQZf"
      },
      "outputs": [],
      "source": [
        "import numpy as np\n",
        "import cv2\n",
        "import math\n",
        "import os\n",
        "\n",
        "import random\n",
        "\n",
        "from matplotlib import pyplot as plt\n",
        "from collections import deque\n",
        "from google.colab import drive\n",
        "from google.colab.patches import cv2_imshow\n",
        "\n",
        "from skimage import data, img_as_float\n",
        "from skimage.metrics import structural_similarity as ssim"
      ]
    },
    {
      "cell_type": "code",
      "source": [
        "drive.mount('/content/drive')"
      ],
      "metadata": {
        "colab": {
          "base_uri": "https://localhost:8080/"
        },
        "id": "0aSvfWjobRtU",
        "outputId": "751d9955-239b-41a3-c578-13eb38e87494"
      },
      "execution_count": null,
      "outputs": [
        {
          "output_type": "stream",
          "name": "stdout",
          "text": [
            "Mounted at /content/drive\n"
          ]
        }
      ]
    },
    {
      "cell_type": "code",
      "source": [
        "house32 = cv2.imread('/content/drive/My Drive/Colab Notebooks/BV2/Testbilder/house32.png', cv2.IMREAD_COLOR)\n",
        "koeln = cv2.imread('/content/drive/My Drive/Colab Notebooks/BV2/Testbilder/koeln.png', cv2.IMREAD_COLOR)"
      ],
      "metadata": {
        "id": "Yp6Vh3ukbXOX"
      },
      "execution_count": null,
      "outputs": []
    },
    {
      "cell_type": "code",
      "source": [
        "# Katzenbilder einlesen\n",
        "folder_path = '/content/drive/My Drive/Colab Notebooks/BV2/Testbilder/cat/'\n",
        "\n",
        "cat_image_list = []\n",
        "\n",
        "for filename in os.listdir(folder_path):\n",
        "    if filename.endswith('.jpg') or filename.endswith('.png'):\n",
        "        img_path = os.path.join(folder_path, filename)\n",
        "        img = cv2.imread(img_path, cv2.IMREAD_COLOR)\n",
        "        cat_image_list.append(img)\n",
        "\n",
        "# Konvertiere die Liste in ein NumPy-Array\n",
        "cat_image_array = np.array(cat_image_list)\n"
      ],
      "metadata": {
        "id": "GNvJXwRAdMun"
      },
      "execution_count": null,
      "outputs": []
    },
    {
      "cell_type": "code",
      "source": [
        "cv2_imshow(cat_image_array[1])"
      ],
      "metadata": {
        "colab": {
          "base_uri": "https://localhost:8080/",
          "height": 49
        },
        "id": "0wQkKTdgeFbY",
        "outputId": "7a715512-fbc3-4485-de3b-55ad25d41860"
      },
      "execution_count": null,
      "outputs": [
        {
          "output_type": "display_data",
          "data": {
            "text/plain": [
              "<PIL.Image.Image image mode=RGB size=32x32>"
            ],
            "image/png": "[encoded data removed]"
          },
          "metadata": {}
        }
      ]
    },
    {
      "cell_type": "code",
      "source": [
        "sub_images = 0\n",
        "def create_mosaik(src_img, cat_images):\n",
        "\n",
        "  #Eingangsbild in Kacheln zerlegen\n",
        "  patch_dim = cat_images[0].shape[0]\n",
        "  sub_images = np.array((src_img.shape[0]/patch_dim, src_img.shape[1]/patch_dim))\n",
        "  result_lut = np.zeros_like(sub_images)\n",
        "\n",
        "  for y in range(0, src_img.shape[0], patch_dim):\n",
        "    for x in range(0, src_img.shape[1], patch_dim):\n",
        "        # Schneiden und Speichern des Subbildes\n",
        "        sub_images[(y//patch_dim)][(x//patch_dim)] = src_img[y:y+patch_dim, x:x+patch_dim]\n",
        "\n",
        "  # Durschnittsfarbwinkel für alle Katzenbilder berechnen\n",
        "  cat_lut = []\n",
        "  for i in cat_images:\n",
        "    patch_hsv = cv2.cvtColor(i, cv2.COLOR_BGR2HSV)\n",
        "    avv_hue = np.sum(patch_hsv[:, :, 0])/(patch_dim*patch_dim)\n",
        "    cat_lut.append([avv_hue])\n",
        "\n",
        "  cat_lut_np = np.array(cat_lut)\n",
        "\n",
        "# Zuordnung Eingangspatch/Kacheln zu einem Katzenbld\n",
        "  for i in sub_images:\n",
        "    patch_hsv = cv2.cvtColor(i, cv2.COLOR_BGR2HSV)\n",
        "    avv_hue = np.sum(patch_hsv[:, :, 0])/(patch_dim*patch_dim)\n",
        "    index_of_closest_value = np.argmin(np.abs(cat_lut_np - avv_hue))\n",
        "    result_lut.append(index_of_closest_value)\n",
        "\n",
        "\n",
        "  for y in range(sub_images.shape[0]):\n",
        "    for x in range(sub_images.shape[1]):\n",
        "      patch_hsv = cv2.cvtColor(sub_images[y][x], cv2.COLOR_BGR2HSV)\n",
        "      avv_hue = np.sum(patch_hsv[:, :, 0])/(patch_dim*patch_dim)\n",
        "      result_lut[y][x] = np.argmin(np.abs(cat_lut_np - avv_hue)) # index_of_closest_value\n",
        "\n",
        "\n",
        "# Erstellung Mosaikbild\n",
        "  result_image = np.zeros_like(src_img)\n",
        "  for y in range(result_lut.shape[0]):\n",
        "    for x in range(result_lut.shape[0]):\n",
        "      y_patch_steps = y * patch_dim\n",
        "      x_patch_steps = x * patch_dim\n",
        "      result_image[y_patch_steps:y_patch_steps+patch_dim, x_patch_steps:x_patch_steps+patch_dim] = cat_images[result_lut[y][x]]\n",
        "\n",
        "  cv2.imwrite(f'/content/drive/My Drive/Colab Notebooks/BV2/mosaik.png', result_image)"
      ],
      "metadata": {
        "id": "E3f_RWv59AiJ"
      },
      "execution_count": null,
      "outputs": []
    },
    {
      "cell_type": "code",
      "source": [
        "create_mosaik(house32, cat_image_array)"
      ],
      "metadata": {
        "id": "MuvcYqZmBm_i",
        "colab": {
          "base_uri": "https://localhost:8080/",
          "height": 298
        },
        "outputId": "5c7cb61f-49eb-4180-b9ef-dd3c0aedd97f"
      },
      "execution_count": null,
      "outputs": [
        {
          "output_type": "error",
          "ename": "TypeError",
          "evalue": "ignored",
          "traceback": [
            "\u001b[0;31m---------------------------------------------------------------------------\u001b[0m",
            "\u001b[0;31mTypeError\u001b[0m                                 Traceback (most recent call last)",
            "\u001b[0;32m<ipython-input-22-8290c250889a>\u001b[0m in \u001b[0;36m<cell line: 1>\u001b[0;34m()\u001b[0m\n\u001b[0;32m----> 1\u001b[0;31m \u001b[0mcreate_mosaik\u001b[0m\u001b[0;34m(\u001b[0m\u001b[0mhouse32\u001b[0m\u001b[0;34m,\u001b[0m \u001b[0mcat_image_array\u001b[0m\u001b[0;34m)\u001b[0m\u001b[0;34m\u001b[0m\u001b[0;34m\u001b[0m\u001b[0m\n\u001b[0m",
            "\u001b[0;32m<ipython-input-21-32b8c32ff0e6>\u001b[0m in \u001b[0;36mcreate_mosaik\u001b[0;34m(src_img, cat_images)\u001b[0m\n\u001b[1;32m     10\u001b[0m     \u001b[0;32mfor\u001b[0m \u001b[0mx\u001b[0m \u001b[0;32min\u001b[0m \u001b[0mrange\u001b[0m\u001b[0;34m(\u001b[0m\u001b[0;36m0\u001b[0m\u001b[0;34m,\u001b[0m \u001b[0msrc_img\u001b[0m\u001b[0;34m.\u001b[0m\u001b[0mshape\u001b[0m\u001b[0;34m[\u001b[0m\u001b[0;36m1\u001b[0m\u001b[0;34m]\u001b[0m\u001b[0;34m,\u001b[0m \u001b[0mpatch_dim\u001b[0m\u001b[0;34m)\u001b[0m\u001b[0;34m:\u001b[0m\u001b[0;34m\u001b[0m\u001b[0;34m\u001b[0m\u001b[0m\n\u001b[1;32m     11\u001b[0m         \u001b[0;31m# Schneiden und Speichern des Subbildes\u001b[0m\u001b[0;34m\u001b[0m\u001b[0;34m\u001b[0m\u001b[0m\n\u001b[0;32m---> 12\u001b[0;31m         \u001b[0msub_images\u001b[0m\u001b[0;34m[\u001b[0m\u001b[0;34m(\u001b[0m\u001b[0my\u001b[0m\u001b[0;34m//\u001b[0m\u001b[0mpatch_dim\u001b[0m\u001b[0;34m)\u001b[0m\u001b[0;34m]\u001b[0m\u001b[0;34m[\u001b[0m\u001b[0;34m(\u001b[0m\u001b[0mx\u001b[0m\u001b[0;34m//\u001b[0m\u001b[0mpatch_dim\u001b[0m\u001b[0;34m)\u001b[0m\u001b[0;34m]\u001b[0m \u001b[0;34m=\u001b[0m \u001b[0msrc_img\u001b[0m\u001b[0;34m[\u001b[0m\u001b[0my\u001b[0m\u001b[0;34m:\u001b[0m\u001b[0my\u001b[0m\u001b[0;34m+\u001b[0m\u001b[0mpatch_dim\u001b[0m\u001b[0;34m,\u001b[0m \u001b[0mx\u001b[0m\u001b[0;34m:\u001b[0m\u001b[0mx\u001b[0m\u001b[0;34m+\u001b[0m\u001b[0mpatch_dim\u001b[0m\u001b[0;34m]\u001b[0m\u001b[0;34m\u001b[0m\u001b[0;34m\u001b[0m\u001b[0m\n\u001b[0m\u001b[1;32m     13\u001b[0m \u001b[0;34m\u001b[0m\u001b[0m\n\u001b[1;32m     14\u001b[0m   \u001b[0;31m# Durschnittsfarbwinkel für alle Katzenbilder berechnen\u001b[0m\u001b[0;34m\u001b[0m\u001b[0;34m\u001b[0m\u001b[0m\n",
            "\u001b[0;31mTypeError\u001b[0m: 'numpy.float64' object does not support item assignment"
          ]
        }
      ]
    },
    {
      "cell_type": "code",
      "source": [
        "#cv2_imshow(house32)"
      ],
      "metadata": {
        "id": "D_3Al7MzHD9a"
      },
      "execution_count": null,
      "outputs": []
    },
    {
      "cell_type": "markdown",
      "source": [
        "Aufgabe 2"
      ],
      "metadata": {
        "id": "WUwx92LbkAW_"
      }
    },
    {
      "cell_type": "code",
      "source": [
        "birne = cv2.imread('/content/drive/My Drive/Colab Notebooks/BV2/Testbilder/Birne1.png', cv2.IMREAD_GRAYSCALE)"
      ],
      "metadata": {
        "id": "Fg_rOtogkCfg"
      },
      "execution_count": null,
      "outputs": []
    },
    {
      "cell_type": "code",
      "source": [
        "otsu_birne_value, otsu_birne = cv2.threshold(birne,0,255,cv2.THRESH_OTSU)\n",
        "#cv2_imshow(otsu_birne_value)\n",
        "print(otsu_birne_value)\n",
        "cv2.imwrite(f'/content/drive/My Drive/Colab Notebooks/BV2/otsu_birne1.png', otsu_birne)"
      ],
      "metadata": {
        "id": "5lUBNf8ikjHS",
        "colab": {
          "base_uri": "https://localhost:8080/"
        },
        "outputId": "e16d3c7b-d482-4261-d26f-3642abf7bb3a"
      },
      "execution_count": null,
      "outputs": [
        {
          "output_type": "stream",
          "name": "stdout",
          "text": [
            "136.0\n"
          ]
        },
        {
          "output_type": "execute_result",
          "data": {
            "text/plain": [
              "True"
            ]
          },
          "metadata": {},
          "execution_count": 11
        }
      ]
    },
    {
      "cell_type": "code",
      "source": [
        "\n",
        "          # Überprüfen der Form des Subbilds (für den Fall, dass das Originalbild nicht gleichmäßig teilbar ist)\n",
        "          #if patch.shape == (patch_dim, patch_dim, 3):\n",
        "           # sub_images.append(patch)\n",
        "\n",
        "             #cv2_imshow(sub_images_array[120])\n",
        "  #cv2_imshow(cat_images[120])\n",
        "  #print(ssim(sub_images_array[0], cat_images[0])) geht nur mit ungeraden Bildern"
      ],
      "metadata": {
        "id": "JATdAVqI4SjC"
      },
      "execution_count": null,
      "outputs": []
    },
    {
      "cell_type": "code",
      "source": [
        "cat_lut = []\n",
        "result_lut = []\n",
        "\n",
        "def create_mosaik_rgb(src_img, cat_images):\n",
        "\n",
        "  #Eingangsbild in Kacheln zerlegen\n",
        "  patch_dim = cat_images[0].shape[0]\n",
        "  sub_images = []\n",
        "\n",
        "  for i in range(0, src_img.shape[0], patch_dim):\n",
        "    for j in range(0, src_img.shape[1], patch_dim):\n",
        "        # Schneiden und Speichern des Subbildes\n",
        "        patch = src_img[i:i+patch_dim, j:j+patch_dim]\n",
        "        sub_images.append(patch)\n",
        "\n",
        "  sub_images_array = np.array(sub_images)\n",
        "\n",
        "  # Durschnittsfarbwinkel für alle Katzenbilder berechnen\n",
        "  for i in cat_images:\n",
        "    average_rgb = np.mean(i, axis=(0, 1))\n",
        "    cat_lut.append([average_rgb])\n",
        "\n",
        "  cat_lut_np = np.array(cat_lut)\n",
        "\n",
        "# Zuordnung Eingangspatch/Kacheln zu einem Katzenbld\n",
        "  for i in sub_images_array:\n",
        "    average_rgb = np.mean(i, axis=(0, 1))\n",
        "    index_of_closest_value = np.argmin(np.abs(cat_lut_np - average_rgb))\n",
        "    result_lut.append(index_of_closest_value)\n",
        "\n",
        "\n",
        "# Erstellung Mosaikbild\n",
        "  counter = 0\n",
        "  result_image = np.zeros_like(src_img)\n",
        "  for i in range(0, src_img.shape[0], patch_dim):\n",
        "    for j in range(0, src_img.shape[1], patch_dim):\n",
        "        # Schneiden und Speichern des Subbildes\n",
        "        result_image[i:i+patch_dim, j:j+patch_dim] = cat_images[result_lut[counter]]\n",
        "        counter+=1\n",
        "\n",
        "\n",
        "  cv2.imwrite(f'/content/drive/My Drive/Colab Notebooks/BV2/mosaik_rgb.png', result_image)\n"
      ],
      "metadata": {
        "id": "Oes5jMhW5mOp"
      },
      "execution_count": null,
      "outputs": []
    },
    {
      "cell_type": "code",
      "source": [
        "create_mosaik_rgb(house32, cat_image_array)"
      ],
      "metadata": {
        "colab": {
          "base_uri": "https://localhost:8080/",
          "height": 298
        },
        "id": "HWoWNlugDlgY",
        "outputId": "f15b8983-ff76-4fd5-d4c9-ac261f287784"
      },
      "execution_count": null,
      "outputs": [
        {
          "output_type": "error",
          "ename": "IndexError",
          "evalue": "ignored",
          "traceback": [
            "\u001b[0;31m---------------------------------------------------------------------------\u001b[0m",
            "\u001b[0;31mIndexError\u001b[0m                                Traceback (most recent call last)",
            "\u001b[0;32m<ipython-input-25-f8c61ffd4218>\u001b[0m in \u001b[0;36m<cell line: 1>\u001b[0;34m()\u001b[0m\n\u001b[0;32m----> 1\u001b[0;31m \u001b[0mcreate_mosaik_rgb\u001b[0m\u001b[0;34m(\u001b[0m\u001b[0mhouse32\u001b[0m\u001b[0;34m,\u001b[0m \u001b[0mcat_image_array\u001b[0m\u001b[0;34m)\u001b[0m\u001b[0;34m\u001b[0m\u001b[0;34m\u001b[0m\u001b[0m\n\u001b[0m",
            "\u001b[0;32m<ipython-input-24-1871c803abcd>\u001b[0m in \u001b[0;36mcreate_mosaik_rgb\u001b[0;34m(src_img, cat_images)\u001b[0m\n\u001b[1;32m     36\u001b[0m     \u001b[0;32mfor\u001b[0m \u001b[0mj\u001b[0m \u001b[0;32min\u001b[0m \u001b[0mrange\u001b[0m\u001b[0;34m(\u001b[0m\u001b[0;36m0\u001b[0m\u001b[0;34m,\u001b[0m \u001b[0msrc_img\u001b[0m\u001b[0;34m.\u001b[0m\u001b[0mshape\u001b[0m\u001b[0;34m[\u001b[0m\u001b[0;36m1\u001b[0m\u001b[0;34m]\u001b[0m\u001b[0;34m,\u001b[0m \u001b[0mpatch_dim\u001b[0m\u001b[0;34m)\u001b[0m\u001b[0;34m:\u001b[0m\u001b[0;34m\u001b[0m\u001b[0;34m\u001b[0m\u001b[0m\n\u001b[1;32m     37\u001b[0m         \u001b[0;31m# Schneiden und Speichern des Subbildes\u001b[0m\u001b[0;34m\u001b[0m\u001b[0;34m\u001b[0m\u001b[0m\n\u001b[0;32m---> 38\u001b[0;31m         \u001b[0mresult_image\u001b[0m\u001b[0;34m[\u001b[0m\u001b[0mi\u001b[0m\u001b[0;34m:\u001b[0m\u001b[0mi\u001b[0m\u001b[0;34m+\u001b[0m\u001b[0mpatch_dim\u001b[0m\u001b[0;34m,\u001b[0m \u001b[0mj\u001b[0m\u001b[0;34m:\u001b[0m\u001b[0mj\u001b[0m\u001b[0;34m+\u001b[0m\u001b[0mpatch_dim\u001b[0m\u001b[0;34m]\u001b[0m \u001b[0;34m=\u001b[0m \u001b[0mcat_images\u001b[0m\u001b[0;34m[\u001b[0m\u001b[0mresult_lut\u001b[0m\u001b[0;34m[\u001b[0m\u001b[0mcounter\u001b[0m\u001b[0;34m]\u001b[0m\u001b[0;34m]\u001b[0m\u001b[0;34m\u001b[0m\u001b[0;34m\u001b[0m\u001b[0m\n\u001b[0m\u001b[1;32m     39\u001b[0m         \u001b[0mcounter\u001b[0m\u001b[0;34m+=\u001b[0m\u001b[0;36m1\u001b[0m\u001b[0;34m\u001b[0m\u001b[0;34m\u001b[0m\u001b[0m\n\u001b[1;32m     40\u001b[0m \u001b[0;34m\u001b[0m\u001b[0m\n",
            "\u001b[0;31mIndexError\u001b[0m: index 1823 is out of bounds for axis 0 with size 1000"
          ]
        }
      ]
    },
    {
      "cell_type": "code",
      "source": [
        "cat_lut = []\n",
        "result_lut = []\n",
        "\n",
        "def create_mosaik_old(src_img, cat_images):\n",
        "\n",
        "  #Eingangsbild in Kacheln zerlegen\n",
        "  patch_dim = cat_images[0].shape[0]\n",
        "  sub_images = []\n",
        "\n",
        "  for i in range(0, src_img.shape[0], patch_dim):\n",
        "    for j in range(0, src_img.shape[1], patch_dim):\n",
        "        # Schneiden und Speichern des Subbildes\n",
        "        patch = src_img[i:i+patch_dim, j:j+patch_dim]\n",
        "        sub_images.append(patch)\n",
        "\n",
        "  sub_images_array = np.array(sub_images)\n",
        "\n",
        "  # Durschnittsfarbwinkel für alle Katzenbilder berechnen\n",
        "  for cat_index, i in enumerate(cat_images):\n",
        "    patch_hsv = cv2.cvtColor(i, cv2.COLOR_BGR2HSV)\n",
        "    avv_hue = np.sum(patch_hsv[:, :, 0])/(patch_dim*patch_dim)\n",
        "    cat_lut.append([avv_hue])\n",
        "\n",
        "  cat_lut_np = np.array(cat_lut)\n",
        "\n",
        "# Zuordnung Eingangspatch/Kacheln zu einem Katzenbld\n",
        "  for i in sub_images_array:\n",
        "    patch_hsv = cv2.cvtColor(i, cv2.COLOR_BGR2HSV)\n",
        "    avv_hue = np.sum(patch_hsv[:, :, 0])/(patch_dim*patch_dim)\n",
        "    index_of_closest_value = np.argmin(np.abs(cat_lut_np - avv_hue))\n",
        "    result_lut.append(index_of_closest_value)\n",
        "\n",
        "\n",
        "# Erstellung Mosaikbild\n",
        "  counter = 0\n",
        "  result_image = np.zeros_like(src_img)\n",
        "  for i in range(0, src_img.shape[0], patch_dim):\n",
        "    for j in range(0, src_img.shape[1], patch_dim):\n",
        "        # Schneiden und Speichern des Subbildes\n",
        "        result_image[i:i+patch_dim, j:j+patch_dim] = cat_images[result_lut[counter]]\n",
        "        counter+=1\n",
        "\n",
        "\n",
        "  cv2.imwrite(f'/content/drive/My Drive/Colab Notebooks/BV2/mosaik.png', result_image)\n"
      ],
      "metadata": {
        "id": "0g58v0a7DIJ7"
      },
      "execution_count": null,
      "outputs": []
    }
  ]
}